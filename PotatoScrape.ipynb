{
 "cells": [
  {
   "cell_type": "code",
   "execution_count": 58,
   "metadata": {},
   "outputs": [],
   "source": [
    "# Dependencies\n",
    "from bs4 import BeautifulSoup\n",
    "import requests\n",
    "import pandas as pd\n",
    "import pymongo\n",
    "from config import mongoConn"
   ]
  },
  {
   "cell_type": "code",
   "execution_count": 59,
   "metadata": {},
   "outputs": [
    {
     "data": {
      "text/plain": [
       "'https://reelgood.com/search?q=Amelie'"
      ]
     },
     "execution_count": 59,
     "metadata": {},
     "output_type": "execute_result"
    }
   ],
   "source": [
    "# URL of page to be scraped\n",
    "query = 'Amelie'\n",
    "base_url = 'https://reelgood.com'\n",
    "url = f'{base_url}/search?q={query}'\n",
    "print(url)"
   ]
  },
  {
   "cell_type": "code",
   "execution_count": 70,
   "metadata": {},
   "outputs": [
    {
     "name": "stdout",
     "output_type": "stream",
     "text": [
      "https://reelgood.com/movie/amelie-2001\n"
     ]
    }
   ],
   "source": [
    "# Retrieve page with the requests module\n",
    "response = requests.get(url)\n",
    "# Create BeautifulSoup object; parse with 'html.parser'\n",
    "soup = BeautifulSoup(response.text, 'html.parser')\n",
    "link = soup.select('.e1qyeclq5 a')[0]['href']\n",
    "show_url = base_url + link\n",
    "print(show_url)"
   ]
  },
  {
   "cell_type": "code",
   "execution_count": 71,
   "metadata": {},
   "outputs": [],
   "source": [
    "show_response = requests.get(show_url)\n",
    "show_soup = BeautifulSoup(show_response.text, 'html.parser') "
   ]
  },
  {
   "cell_type": "code",
   "execution_count": 72,
   "metadata": {},
   "outputs": [],
   "source": [
    "#services = show_soup.select('.e126mwsw1 span[class*=hou11]')\n",
    "services = show_soup.select('.e126mwsw1 span[class*=hou113]') "
   ]
  },
  {
   "cell_type": "code",
   "execution_count": 64,
   "metadata": {},
   "outputs": [],
   "source": [
    "title = ''\n",
    "desc = '' \n",
    "feature_img = '' \n",
    "meta = ''\n",
    "recommended = ''\n",
    "try:\n",
    "    title = show_soup.select('h1.e14injhv7')[0].text\n",
    "    desc = show_soup.select('p[itemprop=description]')[0].text \n",
    "    feature_img = show_soup.select('.e1x40mdt0 picture.e1181ybh0 img.e1181ybh1')[0]['src']  \n",
    "    meta = show_soup.select('.ey4ir3j2') \n",
    "    recommended = show_soup.select('.e1yfir8f4 .e1qyeclq4') \n",
    "except:\n",
    "    print('error') "
   ]
  },
  {
   "cell_type": "code",
   "execution_count": 65,
   "metadata": {},
   "outputs": [],
   "source": [
    "dic_list = {\n",
    "    'query': query,\n",
    "    'services': [s.text for s in set(services)],\n",
    "    'title': title,\n",
    "    'description': desc,\n",
    "    'feature_img': feature_img ,\n",
    "    'info': '',\n",
    "    'recommended':[r.text for r in recommended],\n",
    "    'meta': ''\n",
    "} \n",
    "#dic_list"
   ]
  },
  {
   "cell_type": "code",
   "execution_count": 66,
   "metadata": {
    "scrolled": true
   },
   "outputs": [],
   "source": [
    "#conn = 'mongodb://localhost:27017'\n",
    "client = pymongo.MongoClient(mongoConn) \n",
    "db = client.shows_db\n",
    "collection = db.items\n",
    "collection.insert_one(dic_list)"
   ]
  },
  {
   "cell_type": "code",
   "execution_count": 68,
   "metadata": {},
   "outputs": [
    {
     "data": {
      "text/plain": [
       "'[{\"query\":\"cobra kai\",\"services\":[\"Netflix\",\"Rent or Buy\",\"YouTube Premium\"],\"title\":\"Cobra Kai\",\"description\":\"This Karate Kid sequel series picks up 30 years after the events of the 1984 All Valley Karate Tournament and finds Johnny Lawrence on the hunt for redemption by reopening the infamous Cobra Kai karate dojo. This reignites his old rivalry with the successful Daniel LaRusso, who has been working to maintain the balance in his life without mentor Mr. Miyagi.Cobra Kai featuring Ralph Macchio and William Zabka has one or more episodes streaming with subscription on Netflix, streaming with subscription on YouTube Premium, free on YouTube Premium, and 5 others. It\\'s an action & adventure and comedy show with 30 episodes over 3 seasons. Cobra Kai is still airing with no announced date for the next episode or season. It has a high IMDb audience rating of 8.6 (103,319 votes) and was very well received by critics.\",\"feature_img\":\"https:\\\\/\\\\/img.reelgood.com\\\\/content\\\\/show\\\\/d58a63c7-51fa-4477-ad9a-be641536425d\\\\/poster-780.jpg\",\"info\":\"\",\"recommended\":[\"Ballers (2015)\",\"GLOW (2017)\",\"Brockmire (2017)\",\"Marvel\\'s Iron Fist (2017)\",\"Into the Badlands (2015)\",\"Friday Night Lights (2006)\",\"The Fresh Prince of Bel-Air (1990)\",\"Eastbound & Down (2009)\",\"The League (2009)\",\"Kingdom (2014)\",\"Star Wars: The Clone Wars (2008)\",\"Red Oaks (2014)\",\"Wet Hot American Summer: First Day of Camp (2015)\",\"From Dusk Till Dawn: The Series (2014)\",\"The Last Dance (2020)\",\"Wu Assassins (2019)\",\"The Boys (2019)\",\"The Rookie (2018)\",\"The Mandalorian (2019)\",\"Spartacus (2010)\",\"Warrior (2019)\",\"Death Note (2006)\",\"Avatar: The Last Airbender (2005)\",\"Ted Lasso (2020)\",\"The Umbrella Academy (2019)\",\"Cheers (1982)\",\"One-Punch Man (2015)\",\"The Morning Show (2019)\",\"Norsemen (2016)\",\"The Legend of Korra (2012)\",\"MacGyver (2016)\",\"The Witcher (2019)\",\"Silicon Valley (2014)\",\"Barry (2018)\",\"Battlestar Galactica (2004)\",\"The Marvelous Mrs. Maisel (2017)\",\"Chuck (2007)\",\"Doom Patrol (2019)\",\"Living with Yourself (2019)\",\"Fleabag (2016)\",\"Stargirl (2020)\",\"Swamp Thing (2019)\",\"Utopia (2020)\",\"Marvel\\'s Daredevil (2015)\",\"The Twilight Zone (2019)\",\"Black Sails (2014)\",\"Warrior Nun (2020)\",\"Space Force (2020)\",\"Marvel\\'s The Punisher (2017)\",\"The Magicians (2015)\",\"Avatar: The Last Airbender (2005)\",\"Cobra Kai (2018)\",\"Star Wars: The Clone Wars (2008)\",\"The Legend of Korra (2012)\",\"One-Punch Man (2015)\",\"Warrior (2019)\",\"Naruto Shipp\\\\u016bden (2007)\",\"Hunter x Hunter (2011)\",\"Alias (2001)\",\"Into the Badlands (2015)\",\"Naruto (2002)\",\"Nikita (2010)\",\"Dragon Ball Z (1989)\",\"The Boondocks (2005)\",\"Soul Eater (2008)\",\"Bleach (2004)\",\"Dragon Ball (1996)\",\"Marvel\\'s Iron Fist (2017)\",\"Samurai Jack (2001)\",\"JoJo\\'s Bizarre Adventure (2012)\",\"InuYasha (2000)\",\"Yu Yu Hakusho (1992)\",\"Dragon Ball Z Kai (2009)\",\"Teenage Mutant Ninja Turtles (1987)\",\"Black Dynamite (2011)\",\"Rurouni Kenshin (1996)\",\"Boruto: Naruto Next Generations (2017)\",\"Xena: Warrior Princess (1995)\",\"Wu Assassins (2019)\",\"Jackie Chan Adventures (2000)\",\"Jean-Claude Van Johnson (2016)\",\"Teenage Mutant Ninja Turtles (2003)\",\"Teenage Mutant Ninja Turtles (2012)\",\"X-Men: Evolution (2000)\",\"Kengan Ashura (2019)\",\"The King: Eternal Monarch (2020)\",\"LEGO Ninjago: Masters of Spinjitzu (2012)\",\"Angel Beats! (2010)\",\"Mortal Kombat: Legacy (2011)\",\"Power Rangers (1993)\",\"Kung Fu (1972)\",\"Dragon Ball GT (1996)\",\"Ranma \\\\u00bd (1989)\",\"The Ultimate Fighter (2005)\",\"Charlie\\'s Angels (1976)\",\"Fist of the North Star (1984)\",\"Seis Manos (2019)\",\"The God of High School (2020)\",\"Kickin\\' It (2011)\",\"K.C. Undercover (2015)\",\"Cobra Kai (2018)\",\"The Last Dance (2020)\",\"Friday Night Lights (2006)\",\"One-Punch Man (2015)\",\"Spartacus (2010)\",\"Pose (2018)\",\"GLOW (2017)\",\"The League (2009)\",\"Southland (2009)\",\"Haikyu!! (2014)\",\"Eastbound & Down (2009)\",\"Kingdom (2014)\",\"Heartland (2007)\",\"Ballers (2015)\",\"Kuroko\\'s Basketball (2012)\",\"Outer Banks (2020)\",\"O.J.: Made in America (2016)\",\"All American (2018)\",\"Dragon Ball (1996)\",\"One Tree Hill (2003)\",\"Brockmire (2017)\",\"Sports Night (1998)\",\"Bunheads (2012)\",\"Red Oaks (2014)\",\"Last Chance U (2016)\",\"Blue Mountain State (2010)\",\"Spinning Out (2020)\",\"Dare Me (2019)\",\"Make It or Break It (2009)\",\"Flesh and Bone (2015)\",\"Lonesome Dove (1989)\",\"Formula 1: Drive to Survive (2019)\",\"Pitch (2016)\",\"30 for 30 (2009)\",\"Yuri!!! on Ice (2016)\",\"WWE Raw (1993)\",\"The Long Road Home (2017)\",\"Legendary (2020)\",\"Flint Town (2018)\",\"Hellcats (2010)\",\"Lights Out (2011)\",\"From Dusk Till Dawn: The Series (2014)\",\"Baseball (1994)\",\"Walker, Texas Ranger (1993)\",\"Losers (2019)\",\"Dance Academy (2010)\",\"Inside Edge (2017)\",\"Kung Fu (1972)\",\"Ranma \\\\u00bd (1989)\",\"Coach (1989)\"],\"meta\":\"\"},{\"query\":\"Schitt\\'s Creek\",\"services\":[\"IMDb TV\",\"Rent or Buy\",\"Netflix\",\"CW Seed\",\"fuboTV\"],\"title\":\"Schitt\\'s Creek\",\"description\":\"Formerly filthy rich video store magnate Johnny Rose, his soap star wife Moira, and their two kids, \\\\u00fcber-hipster son David and socialite daughter Alexis, suddenly find themselves broke and forced to live in Schitt\\'s Creek, a small depressing town they once bought as a joke.Schitt\\'s Creek featuring Eugene Levy and Catherine O\\'Hara has one or more episodes streaming with subscription on Netflix, streaming with subscription on Prime Video, streaming with subscription on fuboTV, and 6 others. It\\'s a comedy show with 82 episodes over 6 seasons. Schitt\\'s Creek is no longer running and has no plans to air new episodes or seasons. It has a high IMDb audience rating of 8.5 (65,578 votes) and was met with mixed reviews by critics.\",\"feature_img\":\"https:\\\\/\\\\/img.reelgood.com\\\\/content\\\\/show\\\\/52a2819d-b646-4c34-84ed-679f6be20a4b\\\\/poster-780.jpg\",\"info\":\"\",\"recommended\":[\"Letterkenny (2016)\",\"Veep (2012)\",\"Bates Motel (2013)\",\"Community (2009)\",\"The Outsider (2020)\",\"Arrested Development (2003)\",\"Broadchurch (2013)\",\"The Good Place (2016)\",\"Fleabag (2016)\",\"The Office (2005)\",\"Curb Your Enthusiasm (2000)\",\"Twin Peaks (1990)\",\"The Marvelous Mrs. Maisel (2017)\",\"Longmire (2012)\",\"Parks and Recreation (2009)\",\"Seinfeld (1989)\",\"PEN15 (2019)\",\"Dead to Me (2019)\",\"Barry (2018)\",\"Russian Doll (2019)\",\"Riverdale (2017)\",\"Shrill (2019)\",\"Derry Girls (2018)\",\"Gilmore Girls (2000)\",\"American Gods (2017)\",\"The Righteous Gemstones (2019)\",\"Locke & Key (2020)\",\"Brooklyn Nine-Nine (2013)\",\"Unbreakable Kimmy Schmidt (2015)\",\"The Mick (2017)\",\"Killing Eve (2018)\",\"Wet Hot American Summer: First Day of Camp (2015)\",\"Portlandia (2011)\",\"Stranger Things (2016)\",\"Succession (2018)\",\"What We Do in the Shadows (2019)\",\"Crashing (2016)\",\"Kim\\'s Convenience (2016)\",\"Ozark (2017)\",\"Breaking Bad (2008)\",\"Master of None (2015)\",\"Better Call Saul (2015)\",\"Watchmen (2019)\",\"Big Little Lies (2017)\",\"Mythic Quest: Raven\\'s Banquet (2020)\",\"The Mindy Project (2012)\",\"The Mandalorian (2019)\",\"The Handmaid\\'s Tale (2017)\",\"Great News (2017)\",\"Frasier (1993)\",\"The Office (2005)\",\"Rick and Morty (2013)\",\"Friends (1994)\",\"Better Call Saul (2015)\",\"Parks and Recreation (2009)\",\"The Boys (2019)\",\"Cobra Kai (2018)\",\"House (2004)\",\"Brooklyn Nine-Nine (2013)\",\"The Simpsons (1989)\",\"Shameless (2011)\",\"South Park (1997)\",\"Seinfeld (1989)\",\"Modern Family (2009)\",\"It\\'s Always Sunny in Philadelphia (2005)\",\"How I Met Your Mother (2005)\",\"Sex Education (2019)\",\"Community (2009)\",\"Suits (2011)\",\"The Big Bang Theory (2007)\",\"This Is Us (2016)\",\"Ted Lasso (2020)\",\"Fleabag (2016)\",\"The Good Place (2016)\",\"Futurama (1999)\",\"WandaVision (2021)\",\"The Umbrella Academy (2019)\",\"Freaks and Geeks (1999)\",\"Arrested Development (2003)\",\"Schitt\\'s Creek (2015)\",\"Silicon Valley (2014)\",\"Orange Is the New Black (2013)\",\"Gravity Falls (2012)\",\"The Marvelous Mrs. Maisel (2017)\",\"BoJack Horseman (2014)\",\"Scrubs (2001)\",\"Archer (2009)\",\"The IT Crowd (2006)\",\"Buffy the Vampire Slayer (1997)\",\"What We Do in the Shadows (2019)\",\"The End of the F***ing World (2017)\",\"Six Feet Under (2001)\",\"Curb Your Enthusiasm (2000)\",\"Psych (2006)\",\"Last Week Tonight with John Oliver (2014)\",\"New Girl (2011)\",\"30 Rock (2006)\",\"Normal People (2020)\",\"Chuck (2007)\",\"Bob\\'s Burgers (2011)\"],\"meta\":\"\"},{\"query\":\"Avengers\",\"services\":[\"Rent\",\"TNT\",\"TBS\",\"Buy\",\"Disney+\"],\"title\":\"Avengers: Endgame\",\"description\":\"After the devastating events of Avengers: Infinity War, the universe is in ruins due to the efforts of the Mad Titan, Thanos. With the help of remaining allies, the Avengers must assemble once more in order to undo Thanos\\' actions and restore order to the universe once and for all, no matter what consequences may be in store.Avengers: Endgame featuring Robert Downey Jr. and Chris Evans is streaming with subscription on Disney+, streaming via tv everywhere with TBS, streaming via tv everywhere with TNT, and 5 others. It\\'s an action & adventure and animation movie with a high IMDb audience rating of 8.4 (807,683 votes) and was very well received by critics.\",\"feature_img\":\"https:\\\\/\\\\/img.reelgood.com\\\\/content\\\\/movie\\\\/b3c57191-35fb-4cc7-9f6f-351566bee2fa\\\\/poster-780.jpg\",\"info\":\"\",\"recommended\":[\"Avengers: Infinity War (2018)\",\"Captain America: Civil War (2016)\",\"Thor: The Dark World (2013)\",\"Captain Marvel (2019)\",\"Captain America: The Winter Soldier (2014)\",\"Avengers: Age of Ultron (2015)\",\"The Avengers (2012)\",\"Iron Man 2 (2010)\",\"Captain America: The First Avenger (2011)\",\"Iron Man 3 (2013)\",\"Thor: Ragnarok (2017)\",\"Iron Man (2008)\",\"Thor (2011)\",\"Guardians of the Galaxy Vol. 2 (2017)\",\"Fantastic Four (2005)\",\"Guardians of the Galaxy (2014)\",\"Spider-Man: Homecoming (2017)\",\"Ant-Man and the Wasp (2018)\",\"Doctor Strange (2016)\",\"Black Panther (2018)\",\"Fantastic Four: Rise of the Silver Surfer (2007)\",\"Ant-Man (2015)\",\"Spider-Man: Far from Home (2019)\",\"Venom (2018)\",\"X-Men: Dark Phoenix (2019)\",\"Daredevil (2003)\",\"Green Lantern (2011)\",\"Fantastic Four (2015)\",\"Deadpool 2 (2018)\",\"Spider-Man: Into the Spider-Verse (2018)\",\"Elektra (2005)\",\"X-Men: Apocalypse (2016)\",\"Ghost Rider (2007)\",\"Spider-Man 3 (2007)\",\"Deadpool (2016)\",\"Blade: Trinity (2004)\",\"Kick-Ass 2 (2013)\",\"The Punisher (2004)\",\"X-Men Origins: Wolverine (2009)\",\"Ghost Rider: Spirit of Vengeance (2011)\",\"Logan (2017)\",\"The Amazing Spider-Man 2 (2014)\",\"X-Men: The Last Stand (2006)\",\"Constantine (2005)\",\"The Incredible Hulk (2008)\",\"Aquaman (2018)\",\"Justice League (2017)\",\"Blade II (2002)\",\"Avatar (2009)\",\"The Amazing Spider-Man (2012)\",\"Star Wars: A New Hope (1977)\",\"Avengers: Endgame (2019)\",\"Alien (1979)\",\"The Avengers (2012)\",\"2001: A Space Odyssey (1968)\",\"Arrival (2016)\",\"Thor: Ragnarok (2017)\",\"Edge of Tomorrow (2014)\",\"Avatar (2009)\",\"Star Trek (2009)\",\"Rogue One: A Star Wars Story (2016)\",\"E.T. the Extra-Terrestrial (1982)\",\"The Thing (1982)\",\"The Fifth Element (1997)\",\"Star Trek Into Darkness (2013)\",\"A Quiet Place (2018)\",\"District 9 (2009)\",\"Predator (1987)\",\"Stalker (1979)\",\"The Iron Giant (1999)\",\"Men in Black (1997)\",\"Star Trek: First Contact (1996)\",\"Close Encounters of the Third Kind (1977)\",\"PK (2015)\",\"Super 8 (2011)\",\"Prometheus (2012)\",\"Independence Day (1996)\",\"Cloverfield (2008)\",\"Lilo & Stitch (2002)\",\"Galaxy Quest (1999)\",\"They Live (1988)\",\"Pacific Rim (2013)\",\"Man of Steel (2013)\",\"Transformers (2007)\",\"Captain Marvel (2019)\",\"A.I. Artificial Intelligence (2001)\",\"Contact (1997)\",\"Fantastic Planet (1973)\",\"Dark City (1998)\",\"Starship Troopers (1997)\",\"Godzilla (2014)\",\"Invasion of the Body Snatchers (1978)\",\"Signs (2002)\",\"Invasion of the Body Snatchers (1956)\",\"Little Shop of Horrors (1986)\",\"The Day the Earth Stood Still (1951)\",\"Dragon Ball Super: Broly (2018)\",\"Star Wars: Episode II - Attack of the Clones (2002)\",\"Forbidden Planet (1956)\",\"Men in Black 3 (2012)\",\"Star Wars: The Empire Strikes Back (1980)\",\"Star Wars: A New Hope (1977)\",\"Avengers: Endgame (2019)\",\"WALL\\\\u00b7E (2008)\",\"Alien (1979)\",\"Guardians of the Galaxy (2014)\",\"The Avengers (2012)\",\"Avengers: Infinity War (2018)\",\"Aliens (1986)\",\"Interstellar (2014)\",\"Iron Man (2008)\",\"Star Wars: Return of the Jedi (1983)\",\"2001: A Space Odyssey (1968)\",\"The Martian (2015)\",\"Arrival (2016)\",\"Star Wars: The Force Awakens (2015)\",\"Thor: Ragnarok (2017)\",\"Captain America: The Winter Soldier (2014)\",\"Captain America: Civil War (2016)\",\"Hidden Figures (2016)\",\"Avatar (2009)\",\"Star Trek (2009)\",\"Rogue One: A Star Wars Story (2016)\",\"Guardians of the Galaxy Vol. 2 (2017)\",\"Doctor Strange (2016)\",\"Gravity (2013)\",\"Black Panther (2018)\",\"E.T. the Extra-Terrestrial (1982)\",\"The Thing (1982)\",\"The Fifth Element (1997)\",\"Star Trek Into Darkness (2013)\",\"Serenity (2005)\",\"Avengers: Age of Ultron (2015)\",\"Apollo 13 (1995)\",\"Mission: Impossible - Ghost Protocol (2011)\",\"District 9 (2009)\",\"Moon (2009)\",\"Predator (1987)\",\"The Iron Giant (1999)\",\"Men in Black (1997)\",\"Star Trek Beyond (2016)\",\"Iron Man 3 (2013)\",\"Solaris (1972)\",\"Total Recall (1990)\",\"Thor (2011)\",\"Gattaca (1997)\",\"Star Trek: First Contact (1996)\",\"Coherence (2013)\",\"Apollo 11 (2019)\",\"Iron Man 2 (2010)\"],\"meta\":\"\"},{\"query\":\"Batman\",\"services\":[\"Rent or Buy\"],\"title\":\"Batman\",\"description\":\"Wealthy entrepreneur Bruce Wayne and his ward Dick Grayson lead a double life: they are actually crime fighting duo Batman and Robin. A secret Batpole in the Wayne mansion leads to the Batcave, where Police Commissioner Gordon often calls with the latest emergency threatening Gotham City. Racing the the scene of the crime in the Batmobile, Batman and Robin must (with the help of their trusty Bat-utility-belt) thwart the efforts of a variety of master criminals, including The Riddler, The Joker, Catwoman, and The Penguin.Batman featuring Adam West and Burt Ward has one or more episodes available for purchase on iTunes, available for purchase on Google Play, available for purchase on VUDU, and 1 other. It\\'s an action & adventure and comedy show with 120 episodes over 3 seasons. Batman is no longer running and has no plans to air new episodes or seasons. It has a better than average IMDb audience rating of 7.5 (18,898 votes) and was very well received by critics.\",\"feature_img\":\"https:\\\\/\\\\/img.reelgood.com\\\\/content\\\\/show\\\\/fd1b5cdb-56bd-4cf9-8d1e-811d54d89363\\\\/poster-780.jpg\",\"info\":\"\",\"recommended\":[\"The New Adventures of Batman (1977)\",\"Adventures of Superman (1952)\",\"The New Adventures of Superman (1966)\",\"Spider-Man and His Amazing Friends (1981)\",\"Legends of the Superheroes (1979)\",\"Shazam! (1974)\",\"The Adventures of Batman (1968)\",\"Justice League (2001)\",\"The New Batman Adventures (1997)\",\"Wonder Woman (1975)\",\"The Incredible Hulk (1977)\",\"Batman: The Animated Series (1992)\",\"Darkwing Duck (1991)\",\"The Six Million Dollar Man (1974)\",\"Superman: The Animated Series (1996)\",\"The Flash (1990)\",\"The Smurfs (1981)\",\"The Flintstones (1960)\",\"Spider-Man (1994)\",\"The Avengers: Earth\\'s Mightiest Heroes (2010)\",\"Superman (1941)\",\"Bewitched (1964)\",\"Marvel\\'s Ultimate Spider-Man (2012)\",\"Aquaman (1968)\",\"Marvel\\'s Spider-Man (2017)\",\"The Incredible Hulk (1996)\",\"Batman Beyond (1999)\",\"Fantastic Four: World\\'s Greatest Heroes (2006)\",\"The Green Hornet (1966)\",\"Static Shock (2000)\",\"The Greatest American Hero (1981)\",\"Marvel\\'s Avengers Assemble (2013)\",\"Justice League Action (2016)\",\"The Batman (2004)\",\"The Bionic Woman (1976)\",\"Fantastic Four (1994)\",\"The Incredible Hulk (1982)\",\"Lois & Clark: The New Adventures of Superman (1993)\",\"Batman: Black and White Motion Comics (2008)\",\"Tales from the Crypt (1989)\",\"Marvel\\'s Iron Fist (2017)\",\"Marvel\\\\u2019s Hulk and the Agents of S.M.A.S.H (2013)\",\"Teen Titans (2003)\",\"Birds of Prey (2002)\",\"Superboy (1988)\",\"Superheroes: A Never-Ending Battle (2013)\",\"Swamp Thing: The Series (1990)\",\"X-Men: Evolution (2000)\",\"Beware the Batman (2013)\",\"Birdman and the Galaxy Trio (1967)\",\"Stranger Things (2016)\",\"Attack on Titan (2013)\",\"The Boys (2019)\",\"Westworld (2016)\",\"The Simpsons (1989)\",\"Supernatural (2005)\",\"Twin Peaks (1990)\",\"Marvel\\'s Daredevil (2015)\",\"My Hero Academia (2016)\",\"The Witcher (2019)\",\"Fringe (2008)\",\"Fullmetal Alchemist: Brotherhood (2009)\",\"WandaVision (2021)\",\"The Umbrella Academy (2019)\",\"A Discovery of Witches (2018)\",\"Lucifer (2016)\",\"The Vampire Diaries (2009)\",\"The X-Files (1993)\",\"Gravity Falls (2012)\",\"Batman: The Animated Series (1992)\",\"Buffy the Vampire Slayer (1997)\",\"The Flash (2014)\",\"What We Do in the Shadows (2019)\",\"Penny Dreadful (2014)\",\"Marvel\\'s Agents of S.H.I.E.L.D. (2013)\",\"His Dark Materials (2019)\",\"Psych (2006)\",\"Sense8 (2015)\",\"Demon Slayer: Kimetsu no Yaiba (2019)\",\"Chilling Adventures of Sabrina (2018)\",\"Once Upon a Time (2011)\",\"Marvel\\'s Jessica Jones (2015)\",\"American Gods (2017)\",\"Arrow (2012)\",\"Marvel\\'s The Punisher (2017)\",\"Taboo (2017)\",\"The Legend of Korra (2012)\",\"Death Note (2006)\",\"Legion (2017)\",\"The Outsider (2020)\",\"Teen Wolf (2011)\",\"Good Omens (2019)\",\"One-Punch Man (2015)\",\"Grimm (2011)\",\"The Haunting of Hill House (2018)\",\"Ash vs Evil Dead (2015)\",\"True Blood (2008)\",\"Misfits (2009)\",\"American Horror Story (2011)\",\"Gotham (2014)\",\"The Boys (2019)\",\"Marvel\\'s Daredevil (2015)\",\"My Hero Academia (2016)\",\"WandaVision (2021)\",\"The Umbrella Academy (2019)\",\"Lucifer (2016)\",\"Batman: The Animated Series (1992)\",\"The Flash (2014)\",\"Marvel\\'s Agents of S.H.I.E.L.D. (2013)\",\"Marvel\\'s Jessica Jones (2015)\",\"Arrow (2012)\",\"Marvel\\'s The Punisher (2017)\",\"Legion (2017)\",\"One-Punch Man (2015)\",\"Misfits (2009)\",\"Gotham (2014)\",\"Marvel\\'s Agent Carter (2015)\",\"Doom Patrol (2019)\",\"Titans (2018)\",\"Preacher (2016)\",\"Young Justice (2010)\",\"Smallville (2001)\",\"iZombie (2015)\",\"Harley Quinn (2019)\",\"Heroes (2006)\",\"The Venture Bros. (2004)\",\"Marvel\\'s Luke Cage (2016)\",\"Batman Beyond (1999)\",\"DC\\'s Legends of Tomorrow (2016)\",\"Dragon Ball Z (1989)\",\"Marvel\\'s The Defenders (2017)\",\"Teen Titans (2003)\",\"Supergirl (2015)\",\"Marvel\\'s Runaways (2017)\",\"Constantine (2014)\",\"The Spectacular Spider-Man (2008)\",\"The Gifted (2017)\",\"The Tick (2016)\",\"Batman (1966)\",\"Marvel\\'s Iron Fist (2017)\",\"Marvel\\'s Cloak & Dagger (2018)\",\"Wonder Woman (1975)\",\"Justice League (2001)\",\"Lois & Clark: The New Adventures of Superman (1993)\",\"Spider-Man (1994)\",\"Green Lantern: The Animated Series (2011)\",\"Raising Dion (2019)\",\"Krypton (2018)\",\"Stargirl (2020)\",\"Miraculous: Tales of Ladybug & Cat Noir (2015)\"],\"meta\":\"\"},{\"query\":\"Amelie\",\"services\":[\"CBS All Access\",\"Rent\",\"PlutoTV\",\"Buy\"],\"title\":\"Am\\\\u00e9lie\",\"description\":\"At a tiny Parisian caf\\\\u00e9, the adorable yet painfully shy Am\\\\u00e9lie accidentally discovers a gift for helping others. Soon Amelie is spending her days as a matchmaker, guardian angel, and all-around do-gooder. But when she bumps into a handsome stranger, will she find the courage to become the star of her very own love story?Am\\\\u00e9lie featuring Audrey Tautou and Mathieu Kassovitz is streaming on CBS All Access, free on PlutoTV, available for rent or purchase on iTunes, and 1 other. It\\'s a comedy and romance movie with a high IMDb audience rating of 8.3 (703,340 votes) and was very well received by critics.\",\"feature_img\":\"https:\\\\/\\\\/img.reelgood.com\\\\/content\\\\/movie\\\\/1c891396-74d8-4aa6-a25b-25dfdda9466a\\\\/poster-780.jpg\",\"info\":\"\",\"recommended\":[\"Sleepy Hollow (1999)\",\"Alien Resurrection (1997)\",\"Delicatessen (1991)\",\"The Da Vinci Code (2006)\",\"The Others (2001)\",\"Forgetting Sarah Marshall (2008)\",\"The Fifth Element (1997)\",\"Perfume: The Story of a Murderer (2006)\",\"The Truman Show (1998)\",\"The Devil\\'s Advocate (1997)\",\"Don Jon (2013)\",\"A Beautiful Mind (2001)\",\"I Love You, Man (2009)\",\"The Sixth Sense (1999)\",\"Groundhog Day (1993)\",\"Raiders of the Lost Ark (1981)\",\"Life Is Beautiful (1997)\",\"The Prestige (2006)\",\"Valerian and the City of a Thousand Planets (2017)\",\"Dead Poets Society (1989)\",\"War of the Worlds (2005)\",\"Midnight in Paris (2011)\",\"Schindler\\'s List (1993)\",\"Eternal Sunshine of the Spotless Mind (2004)\",\"Indiana Jones and the Temple of Doom (1984)\",\"Indiana Jones and the Last Crusade (1989)\",\"Requiem for a Dream (2000)\",\"Hugo (2011)\",\"E.T. the Extra-Terrestrial (1982)\",\"V for Vendetta (2006)\",\"Big Fish (2003)\",\"Shrek (2001)\",\"Moonrise Kingdom (2012)\",\"The Curious Case of Benjamin Button (2008)\",\"Jaws (1975)\",\"American Beauty (1999)\",\"Donnie Darko (2001)\",\"Apollo 13 (1995)\",\"Monty Python and the Holy Grail (1975)\",\"Her (2013)\",\"Good Will Hunting (1997)\",\"Annie Hall (1977)\",\"The Little Prince (2015)\",\"The Wizard of Oz (1939)\",\"Back to the Future (1985)\",\"Scott Pilgrim vs. the World (2010)\",\"Dr. Strangelove or: How I Learned to Stop Worrying and Love the Bomb (1964)\",\"The Usual Suspects (1995)\",\"Fargo (1996)\",\"Pan\\'s Labyrinth (2006)\",\"Spirited Away (2003)\",\"Coco (2017)\",\"Am\\\\u00e9lie (2001)\",\"Donnie Darko (2001)\",\"The Shining (1980)\",\"The Nightmare Before Christmas (1993)\",\"The Sixth Sense (1999)\",\"Ghostbusters (1984)\",\"Minority Report (2002)\",\"The Exorcist (1973)\",\"The Conjuring (2013)\",\"Rashomon (1950)\",\"Rosemary\\'s Baby (1968)\",\"Harry Potter and the Half-Blood Prince (2009)\",\"The Evil Dead (1981)\",\"Doctor Sleep (2019)\",\"Stardust (2007)\",\"Beetlejuice (1988)\",\"The Crow (1994)\",\"Fanny and Alexander (1982)\",\"Hereditary (2018)\",\"Nosferatu (1922)\",\"The Conjuring 2 (2016)\",\"The Wailing (2016)\",\"La Dolce Vita (1960)\",\"The Matrix Reloaded (2003)\",\"Coraline (2009)\",\"Sleepy Hollow (1999)\",\"The Others (2001)\",\"Field of Dreams (1989)\",\"Poltergeist (1982)\",\"Throne of Blood (1957)\",\"It Follows (2015)\",\"The Devil\\'s Advocate (1997)\",\"Mickey\\'s Christmas Carol (1983)\",\"Ghost (1990)\",\"His House (2020)\",\"Corpse Bride (2005)\",\"The Muppet Christmas Carol (1992)\",\"The Omen (1976)\",\"The Babadook (2014)\",\"Ugetsu (1953)\",\"Gerald\\'s Game (2017)\",\"The Orphanage (2007)\",\"Volver (2006)\",\"ParaNorman (2012)\",\"Ringu (1998)\",\"Time of the Gypsies (1988)\",\"Hellboy (2004)\",\"A Tale of Two Sisters (2003)\",\"The Godfather: Part II (1974)\",\"Taxi Driver (1976)\",\"American Beauty (1999)\",\"Spotlight (2015)\",\"Am\\\\u00e9lie (2001)\",\"A Clockwork Orange (1971)\",\"The Wolf of Wall Street (2013)\",\"Oldboy (2003)\",\"Jaws (1975)\",\"Rear Window (1954)\",\"Cinema Paradiso (1988)\",\"The Handmaiden (2016)\",\"Call Me by Your Name (2017)\",\"Ocean\\'s Eleven (2001)\",\"Mystic River (2003)\",\"Boogie Nights (1997)\",\"Short Term 12 (2013)\",\"The Nice Guys (2016)\",\"Once Upon a Time in America (1984)\",\"Being John Malkovich (1999)\",\"The Girl with the Dragon Tattoo (2010)\",\"When Harry Met Sally... (1989)\",\"Love, Simon (2018)\",\"The 400 Blows (1959)\",\"The Wrestler (2008)\",\"O Brother, Where Art Thou? (2000)\",\"Easy A (2010)\",\"Juno (2007)\",\"The Graduate (1967)\",\"Taken (2008)\",\"The Lighthouse (2019)\",\"Being There (1979)\",\"Primal Fear (1996)\",\"Bonnie and Clyde (1967)\",\"Planet of the Apes (1968)\",\"Sweeney Todd: The Demon Barber of Fleet Street (2007)\",\"Moulin Rouge! (2001)\",\"Eyes Wide Shut (1999)\",\"Lord of War (2005)\",\"Pain and Glory (2019)\",\"The 40 Year Old Virgin (2005)\",\"The Color Purple (1985)\",\"Burning (2018)\",\"Y Tu Mam\\\\u00e1 Tambi\\\\u00e9n (2001)\",\"Blue Is the Warmest Color (2013)\",\"Monster (2003)\",\"Bridesmaids (2011)\",\"It Follows (2015)\",\"The Devil\\'s Advocate (1997)\",\"Midnight Express (1978)\"],\"meta\":\"\"}]'"
      ]
     },
     "execution_count": 68,
     "metadata": {},
     "output_type": "execute_result"
    }
   ],
   "source": [
    "results = collection.find({}, {'_id': False})\n",
    "coll_df = pd.DataFrame(results)\n",
    "coll_json = coll_df.to_json(orient='records') \n",
    "coll_json"
   ]
  }
 ],
 "metadata": {
  "kernelspec": {
   "display_name": "Python 3",
   "language": "python",
   "name": "python3"
  },
  "language_info": {
   "codemirror_mode": {
    "name": "ipython",
    "version": 3
   },
   "file_extension": ".py",
   "mimetype": "text/x-python",
   "name": "python",
   "nbconvert_exporter": "python",
   "pygments_lexer": "ipython3",
   "version": "3.8.3"
  }
 },
 "nbformat": 4,
 "nbformat_minor": 4
}
