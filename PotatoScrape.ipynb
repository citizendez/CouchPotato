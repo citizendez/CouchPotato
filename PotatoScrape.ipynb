{
 "cells": [
  {
   "cell_type": "code",
   "execution_count": 44,
   "metadata": {},
   "outputs": [],
   "source": [
    "# Dependencies\n",
    "from bs4 import BeautifulSoup\n",
    "import requests\n",
    "import pandas as pd\n",
    "import pymongo\n",
    "from config import mongoConn"
   ]
  },
  {
   "cell_type": "code",
   "execution_count": 45,
   "metadata": {},
   "outputs": [
    {
     "data": {
      "text/plain": [
       "'https://reelgood.com/search?q=sabrina'"
      ]
     },
     "execution_count": 45,
     "metadata": {},
     "output_type": "execute_result"
    }
   ],
   "source": [
    "# URL of page to be scraped\n",
    "query = 'sabrina'\n",
    "base_url = 'https://reelgood.com'\n",
    "url = f'{base_url}/search?q={query}'\n",
    "url"
   ]
  },
  {
   "cell_type": "code",
   "execution_count": 46,
   "metadata": {},
   "outputs": [],
   "source": [
    "# Retrieve page with the requests module\n",
    "response = requests.get(url)"
   ]
  },
  {
   "cell_type": "code",
   "execution_count": 47,
   "metadata": {},
   "outputs": [
    {
     "data": {
      "text/plain": [
       "'https://reelgood.com/movie/sabrina-2018'"
      ]
     },
     "execution_count": 47,
     "metadata": {},
     "output_type": "execute_result"
    }
   ],
   "source": [
    "# Create BeautifulSoup object; parse with 'html.parser'\n",
    "soup = BeautifulSoup(response.text, 'html.parser')\n",
    "link = soup.select('.e1qyeclq5 a')[0]['href']\n",
    "show_url = base_url + link\n",
    "show_url"
   ]
  },
  {
   "cell_type": "code",
   "execution_count": 48,
   "metadata": {},
   "outputs": [],
   "source": [
    "show_response = requests.get(show_url)\n",
    "show_soup = BeautifulSoup(show_response.text, 'html.parser')\n",
    "#print(show_soup.prettify())"
   ]
  },
  {
   "cell_type": "code",
   "execution_count": 49,
   "metadata": {},
   "outputs": [
    {
     "data": {
      "text/plain": [
       "[<span class=\"css-3g9tm3 e1udhou113\">Netflix</span>]"
      ]
     },
     "execution_count": 49,
     "metadata": {},
     "output_type": "execute_result"
    }
   ],
   "source": [
    "#services = show_soup.select('.e126mwsw1 span[class*=hou11]')\n",
    "services = show_soup.select('.e126mwsw1 span[class*=hou113]')\n",
    "services"
   ]
  },
  {
   "cell_type": "code",
   "execution_count": 50,
   "metadata": {},
   "outputs": [
    {
     "name": "stdout",
     "output_type": "stream",
     "text": [
      "Netflix\n"
     ]
    }
   ],
   "source": [
    "for service in services:\n",
    "    print(service.text)"
   ]
  },
  {
   "cell_type": "code",
   "execution_count": 51,
   "metadata": {},
   "outputs": [
    {
     "data": {
      "text/plain": [
       "{'query': 'sabrina',\n",
       " 'services': ['Netflix'],\n",
       " 'title': 'sabrina',\n",
       " 'description': 'sabrina'}"
      ]
     },
     "execution_count": 51,
     "metadata": {},
     "output_type": "execute_result"
    }
   ],
   "source": [
    "dic_list = {\n",
    "    'query': query,\n",
    "    'services': [s.text for s in set(services)],\n",
    "    'title': query,\n",
    "    'description': query\n",
    "}\n",
    "\n",
    "dic_list"
   ]
  },
  {
   "cell_type": "code",
   "execution_count": 52,
   "metadata": {
    "scrolled": true
   },
   "outputs": [],
   "source": [
    "#conn = 'mongodb://localhost:27017'\n",
    "client = pymongo.MongoClient(mongoConn)\n",
    "\n",
    "db = client.shows_db\n",
    "collection = db.items\n"
   ]
  },
  {
   "cell_type": "code",
   "execution_count": 53,
   "metadata": {
    "scrolled": true
   },
   "outputs": [
    {
     "data": {
      "text/plain": [
       "<pymongo.results.InsertOneResult at 0x1f171a2cf00>"
      ]
     },
     "execution_count": 53,
     "metadata": {},
     "output_type": "execute_result"
    }
   ],
   "source": [
    "collection.insert_one(dic_list)"
   ]
  },
  {
   "cell_type": "code",
   "execution_count": 54,
   "metadata": {},
   "outputs": [
    {
     "data": {
      "text/plain": [
       "'[{\"query\":\"dexter\",\"services\":[\"fuboTV\",\"Showtime\",\"Prime Video\",\"Rent or Buy\"],\"title\":\"dexter\",\"description\":\"dexter\"},{\"query\":\"cobra kai\",\"services\":[\"YouTube Premium\",\"Netflix\",\"Rent or Buy\"],\"title\":\"cobra kai\",\"description\":\"cobra kai\"},{\"query\":\"sabrina\",\"services\":[\"Netflix\"],\"title\":\"sabrina\",\"description\":\"sabrina\"}]'"
      ]
     },
     "execution_count": 54,
     "metadata": {},
     "output_type": "execute_result"
    }
   ],
   "source": [
    "results = collection.find({}, {'_id': False})\n",
    "coll_df = pd.DataFrame(results)\n",
    "coll_json = coll_df.to_json(orient='records')\n",
    "\n",
    "coll_json"
   ]
  },
  {
   "cell_type": "code",
   "execution_count": 55,
   "metadata": {},
   "outputs": [
    {
     "name": "stdout",
     "output_type": "stream",
     "text": [
      "{'query': 'dexter', 'services': ['fuboTV', 'Showtime', 'Prime Video', 'Rent or Buy'], 'title': 'dexter', 'description': 'dexter'}\n",
      "{'query': 'cobra kai', 'services': ['YouTube Premium', 'Netflix', 'Rent or Buy'], 'title': 'cobra kai', 'description': 'cobra kai'}\n",
      "{'query': 'sabrina', 'services': ['Netflix'], 'title': 'sabrina', 'description': 'sabrina'}\n"
     ]
    }
   ],
   "source": [
    "results = collection.find({}, {'_id': False})\n",
    "for result in results:\n",
    "    print(result)\n"
   ]
  }
 ],
 "metadata": {
  "kernelspec": {
   "display_name": "Python 3",
   "language": "python",
   "name": "python3"
  },
  "language_info": {
   "codemirror_mode": {
    "name": "ipython",
    "version": 3
   },
   "file_extension": ".py",
   "mimetype": "text/x-python",
   "name": "python",
   "nbconvert_exporter": "python",
   "pygments_lexer": "ipython3",
   "version": "3.8.3"
  }
 },
 "nbformat": 4,
 "nbformat_minor": 4
}
