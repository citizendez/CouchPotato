{
 "cells": [
  {
   "cell_type": "code",
   "execution_count": 1,
   "metadata": {},
   "outputs": [],
   "source": [
    "import pandas as pd\n",
    "import json \n",
    "import requests\n",
    "import pymongo"
   ]
  },
  {
   "cell_type": "code",
   "execution_count": 2,
   "metadata": {},
   "outputs": [],
   "source": [
    "from config import utelly_api_key"
   ]
  },
  {
   "cell_type": "code",
   "execution_count": 5,
   "metadata": {},
   "outputs": [],
   "source": [
    "#set up mongo\n",
    "conn = 'mongodb://localhost:27017'\n",
    "client = pymongo.MongoClient(conn)\n",
    "\n",
    "db = client.utelly_db\n",
    "collection = db.results"
   ]
  },
  {
   "cell_type": "code",
   "execution_count": 11,
   "metadata": {},
   "outputs": [
    {
     "name": "stdout",
     "output_type": "stream",
     "text": [
      "[\n",
      "    {\n",
      "        \"score\": 41.107914,\n",
      "        \"show\": {\n",
      "            \"_links\": {\n",
      "                \"previousepisode\": {\n",
      "                    \"href\": \"http://api.tvmaze.com/episodes/1974770\"\n",
      "                },\n",
      "                \"self\": {\n",
      "                    \"href\": \"http://api.tvmaze.com/shows/30960\"\n",
      "                }\n",
      "            },\n",
      "            \"externals\": {\n",
      "                \"imdb\": \"tt7221388\",\n",
      "                \"thetvdb\": 332858,\n",
      "                \"tvrage\": null\n",
      "            },\n",
      "            \"genres\": [\n",
      "                \"Drama\",\n",
      "                \"Comedy\",\n",
      "                \"Action\"\n",
      "            ],\n",
      "            \"id\": 30960,\n",
      "            \"image\": {\n",
      "                \"medium\": \"http://static.tvmaze.com/uploads/images/medium_portrait/290/727173.jpg\",\n",
      "                \"original\": \"http://static.tvmaze.com/uploads/images/original_untouched/290/727173.jpg\"\n",
      "            },\n",
      "            \"language\": \"English\",\n",
      "            \"name\": \"Cobra Kai\",\n",
      "            \"network\": null,\n",
      "            \"officialSite\": \"https://www.netflix.com/title/81002370\",\n",
      "            \"premiered\": \"2018-05-02\",\n",
      "            \"rating\": {\n",
      "                \"average\": 7.2\n",
      "            },\n",
      "            \"runtime\": null,\n",
      "            \"schedule\": {\n",
      "                \"days\": [],\n",
      "                \"time\": \"\"\n",
      "            },\n",
      "            \"status\": \"Running\",\n",
      "            \"summary\": \"<p>Thirty years after the events of the 1984 All Valley Karate Tournament, Johnny Lawrence's life has taken a rocky turn as he tries to forget a past that constantly haunts him. He seeks redemption by reopening the infamous Cobra Kai karate dojo. But the LaRusso-Lawrence rivalry of yesteryear is reignited when their lives become intertwined with the next generation of \\\"karate kids\\\".</p>\",\n",
      "            \"type\": \"Scripted\",\n",
      "            \"updated\": 1609959598,\n",
      "            \"url\": \"http://www.tvmaze.com/shows/30960/cobra-kai\",\n",
      "            \"webChannel\": {\n",
      "                \"country\": null,\n",
      "                \"id\": 1,\n",
      "                \"name\": \"Netflix\"\n",
      "            },\n",
      "            \"weight\": 100\n",
      "        }\n",
      "    }\n",
      "]\n"
     ]
    }
   ],
   "source": [
    "show = \"cobra kai\"\n",
    "base_url = f\"http://api.tvmaze.com/search/shows?q={show}\"\n",
    "\n",
    "response = requests.get(base_url).json()\n",
    "print(json.dumps(response, indent=4, sort_keys=True))"
   ]
  },
  {
   "cell_type": "code",
   "execution_count": 13,
   "metadata": {},
   "outputs": [],
   "source": [
    "df = pd.DataFrame(response)\n",
    "df.to_json('data/kobraKai.json')"
   ]
  },
  {
   "cell_type": "code",
   "execution_count": 28,
   "metadata": {},
   "outputs": [
    {
     "data": {
      "text/plain": [
       "True"
      ]
     },
     "execution_count": 28,
     "metadata": {},
     "output_type": "execute_result"
    }
   ],
   "source": [
    "usecache = True\n",
    "usecache"
   ]
  },
  {
   "cell_type": "code",
   "execution_count": 29,
   "metadata": {},
   "outputs": [],
   "source": [
    "url = \"https://utelly-tv-shows-and-movies-availability-v1.p.rapidapi.com/lookup\"\n",
    "term = 'cobra kai'\n",
    "querystring = {\"term\":term,\"country\":\"us\"}\n",
    "\n",
    "headers = {\n",
    "    'x-rapidapi-key': utelly_api_key,\n",
    "    'x-rapidapi-host': \"utelly-tv-shows-and-movies-availability-v1.p.rapidapi.com\"\n",
    "    }\n",
    "if not usecache:\n",
    "    response = requests.request(\"GET\", url, headers=headers, params=querystring)\n",
    "    print(response.json())    \n",
    "    \n",
    "    df = pd.DataFrame(response.json())\n",
    "    df.to_json(f'data/{term}.json')\n",
    "\n",
    "\n",
    "df = pd.read_json(f'data/{term}.json')"
   ]
  },
  {
   "cell_type": "code",
   "execution_count": 37,
   "metadata": {},
   "outputs": [
    {
     "name": "stdout",
     "output_type": "stream",
     "text": [
      "Netflix\n",
      "iTunes\n",
      "Google Play\n",
      "Amazon Instant Video\n",
      "YouTube Premium\n"
     ]
    }
   ],
   "source": [
    "locs = df['results'][0]['locations']\n",
    "for loc in locs:\n",
    "    print(loc['display_name'])"
   ]
  }
 ],
 "metadata": {
  "kernelspec": {
   "display_name": "Python 3",
   "language": "python",
   "name": "python3"
  },
  "language_info": {
   "codemirror_mode": {
    "name": "ipython",
    "version": 3
   },
   "file_extension": ".py",
   "mimetype": "text/x-python",
   "name": "python",
   "nbconvert_exporter": "python",
   "pygments_lexer": "ipython3",
   "version": "3.8.3"
  }
 },
 "nbformat": 4,
 "nbformat_minor": 4
}
