{
 "cells": [
  {
   "cell_type": "code",
   "execution_count": 2,
   "metadata": {},
   "outputs": [],
   "source": [
    "import pandas as pd\n",
    "import json \n",
    "import requests\n",
    "import pymongo"
   ]
  },
  {
   "cell_type": "code",
   "execution_count": 5,
   "metadata": {},
   "outputs": [],
   "source": [
    "# will need to setup a local config\n",
    "from config import utelly_api_key"
   ]
  },
  {
   "cell_type": "code",
   "execution_count": 6,
   "metadata": {},
   "outputs": [],
   "source": [
    "#set up mongo\n",
    "conn = 'mongodb://localhost:27017'\n",
    "client = pymongo.MongoClient(conn)\n",
    "\n",
    "db = client.utelly_db\n",
    "collection = db.results"
   ]
  },
  {
   "cell_type": "markdown",
   "metadata": {},
   "source": [
    "#### test api call\n",
    "show = \"cobra kai\"\n",
    "base_url = f\"http://api.tvmaze.com/search/shows?q={show}\"\n",
    "\n",
    "response = requests.get(base_url).json()\n",
    "print(json.dumps(response, indent=4, sort_keys=True))\n",
    "df = pd.DataFrame(response)\n",
    "df.to_json('data/kobraKai.json')"
   ]
  },
  {
   "cell_type": "code",
   "execution_count": 7,
   "metadata": {},
   "outputs": [
    {
     "data": {
      "text/plain": [
       "True"
      ]
     },
     "execution_count": 7,
     "metadata": {},
     "output_type": "execute_result"
    }
   ],
   "source": [
    "# leave set to True\n",
    "usecache = True\n",
    "usecache"
   ]
  },
  {
   "cell_type": "code",
   "execution_count": 8,
   "metadata": {},
   "outputs": [],
   "source": [
    "term = 'cobra kai'"
   ]
  },
  {
   "cell_type": "markdown",
   "metadata": {},
   "source": [
    "## actual API call ( results cached )\n",
    "\n",
    "url = \"https://utelly-tv-shows-and-movies-availability-v1.p.rapidapi.com/lookup\"\n",
    "querystring = {\"term\":term,\"country\":\"us\"}\n",
    "\n",
    "headers = {\n",
    "    'x-rapidapi-key': utelly_api_key,\n",
    "    'x-rapidapi-host': \"utelly-tv-shows-and-movies-availability-v1.p.rapidapi.com\"\n",
    "    }\n",
    "if not usecache:\n",
    "    response = requests.request(\"GET\", url, headers=headers, params=querystring)\n",
    "    print(response.json())    \n",
    "    \n",
    "    df = pd.DataFrame(response.json())\n",
    "    df.to_json(f'data/{term}.json')\n"
   ]
  },
  {
   "cell_type": "code",
   "execution_count": 9,
   "metadata": {},
   "outputs": [],
   "source": [
    "df = pd.read_json(f'data/{term}.json')"
   ]
  },
  {
   "cell_type": "code",
   "execution_count": 10,
   "metadata": {},
   "outputs": [
    {
     "name": "stdout",
     "output_type": "stream",
     "text": [
      "Netflix\n",
      "iTunes\n",
      "Google Play\n",
      "Amazon Instant Video\n",
      "YouTube Premium\n"
     ]
    }
   ],
   "source": [
    "locs = df['results'][0]['locations']\n",
    "for loc in locs:\n",
    "    print(loc['display_name'])"
   ]
  }
 ],
 "metadata": {
  "kernelspec": {
   "display_name": "Python 3",
   "language": "python",
   "name": "python3"
  },
  "language_info": {
   "codemirror_mode": {
    "name": "ipython",
    "version": 3
   },
   "file_extension": ".py",
   "mimetype": "text/x-python",
   "name": "python",
   "nbconvert_exporter": "python",
   "pygments_lexer": "ipython3",
   "version": "3.8.3"
  }
 },
 "nbformat": 4,
 "nbformat_minor": 4
}
