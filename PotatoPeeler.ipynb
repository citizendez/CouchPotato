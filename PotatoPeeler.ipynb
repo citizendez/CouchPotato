{
 "cells": [
  {
   "cell_type": "code",
   "execution_count": 2,
   "metadata": {},
   "outputs": [],
   "source": [
    "# Dependencies\n",
    "from bs4 import BeautifulSoup\n",
    "import requests\n",
    "import pandas as pd\n",
    "import pymongo\n",
    "from config import mongoConn"
   ]
  },
  {
   "cell_type": "code",
   "execution_count": 3,
   "metadata": {},
   "outputs": [
    {
     "name": "stdout",
     "output_type": "stream",
     "text": [
      "https://reelgood.com/search?q=Blazing Saddles\n"
     ]
    }
   ],
   "source": [
    "# URL of page to be scraped\n",
    "query = 'Blazing Saddles'\n",
    "base_url = 'https://reelgood.com'\n",
    "url = f'{base_url}/search?q={query}'\n",
    "print(url)"
   ]
  },
  {
   "cell_type": "code",
   "execution_count": 4,
   "metadata": {},
   "outputs": [
    {
     "name": "stdout",
     "output_type": "stream",
     "text": [
      "https://reelgood.com/movie/blazing-saddles-1974\n"
     ]
    }
   ],
   "source": [
    "# Retrieve page with the requests module\n",
    "response = requests.get(url)\n",
    "# Create BeautifulSoup object; parse with 'html.parser'\n",
    "soup = BeautifulSoup(response.text, 'html.parser')\n",
    "link = soup.select('.e1qyeclq5 a')[0]['href']\n",
    "show_url = base_url + link\n",
    "print(show_url)"
   ]
  },
  {
   "cell_type": "code",
   "execution_count": 5,
   "metadata": {},
   "outputs": [],
   "source": [
    "show_response = requests.get(show_url)\n",
    "show_soup = BeautifulSoup(show_response.text, 'html.parser') "
   ]
  },
  {
   "cell_type": "code",
   "execution_count": 6,
   "metadata": {},
   "outputs": [],
   "source": [
    "#services = show_soup.select('.e126mwsw1 span[class*=hou11]')\n",
    "services = show_soup.select('.e126mwsw1 span[class*=hou113]') "
   ]
  },
  {
   "cell_type": "code",
   "execution_count": 7,
   "metadata": {},
   "outputs": [],
   "source": [
    "title = ''\n",
    "desc = '' \n",
    "feature_img = '' \n",
    "meta = ''\n",
    "recommended = ''\n",
    "try:\n",
    "    title = show_soup.select('h1.e14injhv7')[0].text\n",
    "    desc = show_soup.select('p[itemprop=description]')[0].text \n",
    "    feature_img = show_soup.select('.e1x40mdt0 picture.e1181ybh0 img.e1181ybh1')[0]['src']  \n",
    "    meta = show_soup.select('.ey4ir3j2') \n",
    "    recommended = show_soup.select('.e1yfir8f4 .e1qyeclq4') \n",
    "except:\n",
    "    print('error') "
   ]
  },
  {
   "cell_type": "code",
   "execution_count": 8,
   "metadata": {},
   "outputs": [],
   "source": [
    "dic_list = {\n",
    "    'query': query,\n",
    "    'services': [s.text for s in set(services)],\n",
    "    'title': title,\n",
    "    'description': desc,\n",
    "    'feature_img': feature_img ,\n",
    "    'service_url': '',\n",
    "    'info': '',\n",
    "    'recommended':[r.text for r in recommended],\n",
    "    'meta': ''\n",
    "} \n",
    "#dic_list"
   ]
  },
  {
   "cell_type": "code",
   "execution_count": 9,
   "metadata": {
    "scrolled": true
   },
   "outputs": [
    {
     "data": {
      "text/plain": [
       "<pymongo.results.InsertOneResult at 0x1d56471dfc0>"
      ]
     },
     "execution_count": 9,
     "metadata": {},
     "output_type": "execute_result"
    }
   ],
   "source": [
    "#conn = 'mongodb://localhost:27017'\n",
    "client = pymongo.MongoClient(mongoConn) \n",
    "db = client.shows_db\n",
    "collection = db.items\n",
    "collection.insert_one(dic_list)"
   ]
  },
  {
   "cell_type": "code",
   "execution_count": 11,
   "metadata": {},
   "outputs": [
    {
     "data": {
      "text/plain": [
       "'[{\"query\":\"Amelie\",\"services\":[\"CBS All Access\",\"Rent\",\"PlutoTV\",\"Buy\"],\"title\":\"Am\\\\u00e9lie\",\"description\":\"At a tiny Parisian caf\\\\u00e9, the adorable yet painfully shy Am\\\\u00e9lie accidentally discovers a gift for helping others. Soon Amelie is spending her days as a matchmaker, guardian angel, and all-around do-gooder. But when she bumps into a handsome stranger, will she find the courage to become the star of her very own love story?Am\\\\u00e9lie featuring Audrey Tautou and Mathieu Kassovitz is streaming on CBS All Access, free on PlutoTV, available for rent or purchase on iTunes, and 1 other. It\\'s a comedy and romance movie with a high IMDb audience rating of 8.3 (703,668 votes) and was very well received by critics.\",\"feature_img\":\"https:\\\\/\\\\/img.reelgood.com\\\\/content\\\\/movie\\\\/1c891396-74d8-4aa6-a25b-25dfdda9466a\\\\/poster-780.jpg\",\"service_url\":\"\",\"info\":\"\",\"recommended\":[\"Sleepy Hollow (1999)\",\"Alien Resurrection (1997)\",\"Delicatessen (1991)\",\"The Da Vinci Code (2006)\",\"The Others (2001)\",\"Forgetting Sarah Marshall (2008)\",\"The Fifth Element (1997)\",\"Perfume: The Story of a Murderer (2006)\",\"The Truman Show (1998)\",\"The Devil\\'s Advocate (1997)\",\"Don Jon (2013)\",\"A Beautiful Mind (2001)\",\"I Love You, Man (2009)\",\"The Sixth Sense (1999)\",\"Groundhog Day (1993)\",\"Raiders of the Lost Ark (1981)\",\"Life Is Beautiful (1997)\",\"The Prestige (2006)\",\"Valerian and the City of a Thousand Planets (2017)\",\"Dead Poets Society (1989)\",\"War of the Worlds (2005)\",\"Midnight in Paris (2011)\",\"Schindler\\'s List (1993)\",\"Eternal Sunshine of the Spotless Mind (2004)\",\"Indiana Jones and the Temple of Doom (1984)\",\"Indiana Jones and the Last Crusade (1989)\",\"Requiem for a Dream (2000)\",\"Hugo (2011)\",\"E.T. the Extra-Terrestrial (1982)\",\"V for Vendetta (2006)\",\"Big Fish (2003)\",\"Shrek (2001)\",\"Moonrise Kingdom (2012)\",\"The Curious Case of Benjamin Button (2008)\",\"Jaws (1975)\",\"American Beauty (1999)\",\"Donnie Darko (2001)\",\"Apollo 13 (1995)\",\"Monty Python and the Holy Grail (1975)\",\"Her (2013)\",\"Good Will Hunting (1997)\",\"Annie Hall (1977)\",\"The Little Prince (2015)\",\"The Wizard of Oz (1939)\",\"Back to the Future (1985)\",\"Scott Pilgrim vs. the World (2010)\",\"Dr. Strangelove or: How I Learned to Stop Worrying and Love the Bomb (1964)\",\"The Usual Suspects (1995)\",\"Fargo (1996)\",\"Pan\\'s Labyrinth (2006)\",\"Spirited Away (2003)\",\"Coco (2017)\",\"Am\\\\u00e9lie (2001)\",\"Donnie Darko (2001)\",\"The Shining (1980)\",\"The Nightmare Before Christmas (1993)\",\"The Sixth Sense (1999)\",\"Ghostbusters (1984)\",\"Minority Report (2002)\",\"The Exorcist (1973)\",\"The Conjuring (2013)\",\"Rashomon (1950)\",\"Rosemary\\'s Baby (1968)\",\"Harry Potter and the Half-Blood Prince (2009)\",\"The Evil Dead (1981)\",\"Doctor Sleep (2019)\",\"Stardust (2007)\",\"Beetlejuice (1988)\",\"The Crow (1994)\",\"Fanny and Alexander (1982)\",\"Hereditary (2018)\",\"Nosferatu (1922)\",\"The Conjuring 2 (2016)\",\"The Wailing (2016)\",\"The Matrix Reloaded (2003)\",\"La Dolce Vita (1960)\",\"Coraline (2009)\",\"Sleepy Hollow (1999)\",\"The Others (2001)\",\"Field of Dreams (1989)\",\"Poltergeist (1982)\",\"It Follows (2015)\",\"Throne of Blood (1957)\",\"The Devil\\'s Advocate (1997)\",\"Ghost (1990)\",\"His House (2020)\",\"Mickey\\'s Christmas Carol (1983)\",\"Corpse Bride (2005)\",\"The Muppet Christmas Carol (1992)\",\"The Omen (1976)\",\"The Babadook (2014)\",\"Ugetsu (1953)\",\"Gerald\\'s Game (2017)\",\"The Orphanage (2007)\",\"Ringu (1998)\",\"Volver (2006)\",\"ParaNorman (2012)\",\"Time of the Gypsies (1988)\",\"Hellboy (2004)\",\"A Tale of Two Sisters (2003)\",\"The Godfather: Part II (1974)\",\"Taxi Driver (1976)\",\"American Beauty (1999)\",\"Spotlight (2015)\",\"Am\\\\u00e9lie (2001)\",\"A Clockwork Orange (1971)\",\"The Wolf of Wall Street (2013)\",\"Oldboy (2003)\",\"Jaws (1975)\",\"Rear Window (1954)\",\"Cinema Paradiso (1988)\",\"The Handmaiden (2016)\",\"Call Me by Your Name (2017)\",\"Ocean\\'s Eleven (2001)\",\"Mystic River (2003)\",\"Boogie Nights (1997)\",\"Short Term 12 (2013)\",\"The Nice Guys (2016)\",\"Once Upon a Time in America (1984)\",\"The Girl with the Dragon Tattoo (2010)\",\"When Harry Met Sally... (1989)\",\"Being John Malkovich (1999)\",\"Love, Simon (2018)\",\"The 400 Blows (1959)\",\"O Brother, Where Art Thou? (2000)\",\"Easy A (2010)\",\"Juno (2007)\",\"The Wrestler (2008)\",\"The Graduate (1967)\",\"Taken (2008)\",\"The Lighthouse (2019)\",\"Being There (1979)\",\"Primal Fear (1996)\",\"Bonnie and Clyde (1967)\",\"Planet of the Apes (1968)\",\"Sweeney Todd: The Demon Barber of Fleet Street (2007)\",\"Eyes Wide Shut (1999)\",\"Moulin Rouge! (2001)\",\"Pain and Glory (2019)\",\"Lord of War (2005)\",\"The Color Purple (1985)\",\"The 40 Year Old Virgin (2005)\",\"Burning (2018)\",\"Y Tu Mam\\\\u00e1 Tambi\\\\u00e9n (2001)\",\"Blue Is the Warmest Color (2013)\",\"It Follows (2015)\",\"Bridesmaids (2011)\",\"Monster (2003)\",\"The Devil\\'s Advocate (1997)\",\"Midnight Express (1978)\"],\"meta\":\"\"},{\"query\":\"Blazing Saddles\",\"services\":[\"Rent\",\"Hoopla\",\"Buy\"],\"title\":\"Blazing Saddles\",\"description\":\"A town\\\\u2014where everyone seems to be named Johnson\\\\u2014stands in the way of the railroad. In order to grab their land, robber baron Hedley Lemar sends his henchmen to make life in the town unbearable. After the sheriff is killed, the town demands a new sheriff from the Governor, so Hedley convinces him to send the town the first black sheriff in the west.Blazing Saddles featuring Cleavon Little and Gene Wilder is streaming with subscription on Hoopla, available for rent or purchase on iTunes, available for rent or purchase on Google Play, and 2 others. It\\'s a comedy movie with a high IMDb audience rating of 7.7 (125,998 votes) and was well received by critics.\",\"feature_img\":\"https:\\\\/\\\\/img.reelgood.com\\\\/content\\\\/movie\\\\/4c1ae16a-ed7f-45d6-b743-aa72327b9c17\\\\/poster-780.jpg\",\"service_url\":\"\",\"info\":\"\",\"recommended\":[\"Young Frankenstein (1974)\",\"Spaceballs (1987)\",\"Robin Hood: Men in Tights (1993)\",\"The Producers (1967)\",\"History of the World: Part I (1981)\",\"Willy Wonka & the Chocolate Factory (1971)\",\"The Naked Gun 2\\\\u00bd: The Smell of Fear (1991)\",\"The Elephant Man (1980)\",\"Mr. Smith Goes to Washington (1939)\",\"Naked Gun 33\\\\u2153: The Final Insult (1994)\",\"Step Brothers (2008)\",\"Mrs. Doubtfire (1993)\",\"Die Another Day (2002)\",\"Patriot Games (1992)\",\"The Graduate (1967)\",\"Clue (1985)\",\"Star Trek VI: The Undiscovered Country (1991)\",\"The Golden Child (1986)\",\"The Emperor\\'s New Groove (2000)\",\"Dr. Strangelove or: How I Learned to Stop Worrying and Love the Bomb (1964)\",\"Ghost (1990)\",\"Butch Cassidy and the Sundance Kid (1969)\",\"Back to the Future Part III (1990)\",\"The Flintstones (1994)\",\"Conan the Barbarian (1982)\",\"The Ballad of Buster Scruggs (2018)\",\"Fletch (1985)\",\"Once Upon a Time in Mexico (2003)\",\"Antz (1998)\",\"Witness (1985)\",\"Philadelphia (1993)\",\"The Muppet Movie (1979)\",\"Shakespeare in Love (1998)\",\"A Bug\\'s Life (1998)\",\"The Big Lebowski (1998)\",\"Airplane! (1980)\",\"An American Tail (1986)\",\"Beverly Hills Cop II (1987)\",\"Chinatown (1974)\",\"The Prince of Egypt (1998)\",\"The Naked Gun: From the Files of Police Squad! (1988)\",\"Ferris Bueller\\'s Day Off (1986)\",\"Who Framed Roger Rabbit (1988)\",\"Big (1988)\",\"Hook (1991)\",\"Groundhog Day (1993)\",\"The Boondock Saints (1999)\",\"The Secret of NIMH (1982)\",\"Boogie Nights (1997)\",\"Animal House (1978)\",\"The Dark Knight (2008)\",\"The Shawshank Redemption (1994)\",\"The Godfather (1972)\",\"Schindler\\'s List (1993)\",\"Star Wars: A New Hope (1977)\",\"The Godfather: Part II (1974)\",\"Taxi Driver (1976)\",\"Aliens (1986)\",\"Inglourious Basterds (2009)\",\"Dr. Strangelove or: How I Learned to Stop Worrying and Love the Bomb (1964)\",\"The King\\'s Speech (2010)\",\"Casablanca (1943)\",\"A Clockwork Orange (1971)\",\"Gladiator (2000)\",\"The Wolf of Wall Street (2013)\",\"The Bourne Ultimatum (2007)\",\"L\\\\u00e9on: The Professional (1994)\",\"V for Vendetta (2006)\",\"Life Is Beautiful (1997)\",\"Downfall (2004)\",\"L.A. Confidential (1997)\",\"North by Northwest (1959)\",\"Wonder Woman (2017)\",\"American History X (1998)\",\"Scarface (1983)\",\"Life of Brian (1979)\",\"Pirates of the Caribbean: The Curse of the Black Pearl (2003)\",\"Braveheart (1995)\",\"Amadeus (1984)\",\"Lawrence of Arabia (1962)\",\"The Great Dictator (1940)\",\"The Lives of Others (2006)\",\"Argo (2012)\",\"The Hunger Games: Catching Fire (2013)\",\"Dangal (2016)\",\"Short Term 12 (2013)\",\"The Bourne Supremacy (2004)\",\"Once Upon a Time in America (1984)\",\"Mission: Impossible - Ghost Protocol (2011)\",\"The Insider (1999)\",\"Das Boot (1981)\",\"13th (2016)\",\"Goldfinger (1964)\",\"District 9 (2009)\",\"Castle in the Sky (1986)\",\"Hotel Rwanda (2004)\",\"Dark Waters (2019)\",\"Tenet (2020)\",\"Memories of Murder (2003)\",\"All the President\\'s Men (1976)\",\"Parasite (2019)\",\"Back to the Future (1985)\",\"Toy Story (1995)\",\"The Truman Show (1998)\",\"Guardians of the Galaxy (2014)\",\"Forrest Gump (1994)\",\"Deadpool (2016)\",\"Up (2009)\",\"Coco (2017)\",\"The Intouchables (2011)\",\"Inside Out (2015)\",\"Dr. Strangelove or: How I Learned to Stop Worrying and Love the Bomb (1964)\",\"Finding Nemo (2003)\",\"Monsters, Inc. (2001)\",\"Toy Story 3 (2010)\",\"Am\\\\u00e9lie (2001)\",\"How to Train Your Dragon (2010)\",\"Monty Python and the Holy Grail (1975)\",\"Zootopia (2016)\",\"3 Idiots (2009)\",\"The Wolf of Wall Street (2013)\",\"Ratatouille (2007)\",\"Shaun of the Dead (2004)\",\"Thor: Ragnarok (2017)\",\"Shrek (2001)\",\"Life Is Beautiful (1997)\",\"Dead Poets Society (1989)\",\"The Big Lebowski (1998)\",\"Toy Story 2 (1999)\",\"Aladdin (1992)\",\"The Big Short (2015)\",\"Silver Linings Playbook (2012)\",\"The Grand Budapest Hotel (2014)\",\"Groundhog Day (1993)\",\"Life of Brian (1979)\",\"Moana (2016)\",\"Deadpool 2 (2018)\",\"Spider-Man: Far from Home (2019)\",\"Hot Fuzz (2007)\",\"Jojo Rabbit (2019)\",\"Snatch (2000)\",\"Guardians of the Galaxy Vol. 2 (2017)\",\"Green Book (2018)\",\"Lock, Stock and Two Smoking Barrels (1998)\",\"Three Billboards Outside Ebbing, Missouri (2017)\",\"Toy Story 4 (2019)\",\"Zombieland (2009)\",\"Superbad (2007)\",\"Cinema Paradiso (1988)\",\"Singin\\' in the Rain (1952)\"],\"meta\":\"\"}]'"
      ]
     },
     "execution_count": 11,
     "metadata": {},
     "output_type": "execute_result"
    }
   ],
   "source": [
    "results = collection.find({}, {'_id': False})\n",
    "coll_df = pd.DataFrame(results)\n",
    "coll_json = coll_df.to_json(orient='records') \n",
    "coll_json"
   ]
  }
 ],
 "metadata": {
  "kernelspec": {
   "display_name": "Python 3",
   "language": "python",
   "name": "python3"
  },
  "language_info": {
   "codemirror_mode": {
    "name": "ipython",
    "version": 3
   },
   "file_extension": ".py",
   "mimetype": "text/x-python",
   "name": "python",
   "nbconvert_exporter": "python",
   "pygments_lexer": "ipython3",
   "version": "3.8.3"
  }
 },
 "nbformat": 4,
 "nbformat_minor": 4
}
