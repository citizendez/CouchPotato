{
 "cells": [
  {
   "cell_type": "code",
   "execution_count": 73,
   "metadata": {},
   "outputs": [],
   "source": [
    "# Dependencies\n",
    "from bs4 import BeautifulSoup\n",
    "import requests\n",
    "import pandas as pd\n",
    "import pymongo\n",
    "from config import mongoConn"
   ]
  },
  {
   "cell_type": "code",
   "execution_count": 74,
   "metadata": {},
   "outputs": [
    {
     "name": "stdout",
     "output_type": "stream",
     "text": [
      "https://reelgood.com/search?q=Amelie\n"
     ]
    }
   ],
   "source": [
    "# URL of page to be scraped\n",
    "query = 'Amelie'\n",
    "base_url = 'https://reelgood.com'\n",
    "url = f'{base_url}/search?q={query}'\n",
    "print(url)"
   ]
  },
  {
   "cell_type": "code",
   "execution_count": 75,
   "metadata": {},
   "outputs": [
    {
     "name": "stdout",
     "output_type": "stream",
     "text": [
      "https://reelgood.com/movie/amelie-2001\n"
     ]
    }
   ],
   "source": [
    "# Retrieve page with the requests module\n",
    "response = requests.get(url)\n",
    "# Create BeautifulSoup object; parse with 'html.parser'\n",
    "soup = BeautifulSoup(response.text, 'html.parser')\n",
    "link = soup.select('.e1qyeclq5 a')[0]['href']\n",
    "show_url = base_url + link\n",
    "print(show_url)"
   ]
  },
  {
   "cell_type": "code",
   "execution_count": 76,
   "metadata": {},
   "outputs": [],
   "source": [
    "show_response = requests.get(show_url)\n",
    "show_soup = BeautifulSoup(show_response.text, 'html.parser') "
   ]
  },
  {
   "cell_type": "code",
   "execution_count": 77,
   "metadata": {},
   "outputs": [],
   "source": [
    "#services = show_soup.select('.e126mwsw1 span[class*=hou11]')\n",
    "services = show_soup.select('.e126mwsw1 span[class*=hou113]') "
   ]
  },
  {
   "cell_type": "code",
   "execution_count": 78,
   "metadata": {},
   "outputs": [],
   "source": [
    "title = ''\n",
    "desc = '' \n",
    "feature_img = '' \n",
    "meta = ''\n",
    "recommended = ''\n",
    "try:\n",
    "    title = show_soup.select('h1.e14injhv7')[0].text\n",
    "    desc = show_soup.select('p[itemprop=description]')[0].text \n",
    "    feature_img = show_soup.select('.e1x40mdt0 picture.e1181ybh0 img.e1181ybh1')[0]['src']  \n",
    "    meta = show_soup.select('.ey4ir3j2') \n",
    "    recommended = show_soup.select('.e1yfir8f4 .e1qyeclq4') \n",
    "except:\n",
    "    print('error') "
   ]
  },
  {
   "cell_type": "code",
   "execution_count": 79,
   "metadata": {},
   "outputs": [],
   "source": [
    "dic_list = {\n",
    "    'query': query,\n",
    "    'services': [s.text for s in set(services)],\n",
    "    'title': title,\n",
    "    'description': desc,\n",
    "    'feature_img': feature_img ,\n",
    "    'service_url': '',\n",
    "    'info': '',\n",
    "    'recommended':[r.text for r in recommended],\n",
    "    'meta': ''\n",
    "} \n",
    "#dic_list"
   ]
  },
  {
   "cell_type": "code",
   "execution_count": 80,
   "metadata": {
    "scrolled": true
   },
   "outputs": [
    {
     "data": {
      "text/plain": [
       "<pymongo.results.InsertOneResult at 0x201486fa540>"
      ]
     },
     "execution_count": 80,
     "metadata": {},
     "output_type": "execute_result"
    }
   ],
   "source": [
    "#conn = 'mongodb://localhost:27017'\n",
    "client = pymongo.MongoClient(mongoConn) \n",
    "db = client.shows_db\n",
    "collection = db.items\n",
    "collection.insert_one(dic_list)"
   ]
  },
  {
   "cell_type": "code",
   "execution_count": 81,
   "metadata": {},
   "outputs": [
    {
     "data": {
      "text/plain": [
       "'[{\"query\":\"Amelie\",\"services\":[\"CBS All Access\",\"Rent\",\"PlutoTV\",\"Buy\"],\"title\":\"Am\\\\u00e9lie\",\"description\":\"At a tiny Parisian caf\\\\u00e9, the adorable yet painfully shy Am\\\\u00e9lie accidentally discovers a gift for helping others. Soon Amelie is spending her days as a matchmaker, guardian angel, and all-around do-gooder. But when she bumps into a handsome stranger, will she find the courage to become the star of her very own love story?Am\\\\u00e9lie featuring Audrey Tautou and Mathieu Kassovitz is streaming on CBS All Access, free on PlutoTV, available for rent or purchase on iTunes, and 1 other. It\\'s a comedy and romance movie with a high IMDb audience rating of 8.3 (703,668 votes) and was very well received by critics.\",\"feature_img\":\"https:\\\\/\\\\/img.reelgood.com\\\\/content\\\\/movie\\\\/1c891396-74d8-4aa6-a25b-25dfdda9466a\\\\/poster-780.jpg\",\"service_url\":\"\",\"info\":\"\",\"recommended\":[\"Sleepy Hollow (1999)\",\"Alien Resurrection (1997)\",\"Delicatessen (1991)\",\"The Da Vinci Code (2006)\",\"The Others (2001)\",\"Forgetting Sarah Marshall (2008)\",\"The Fifth Element (1997)\",\"Perfume: The Story of a Murderer (2006)\",\"The Truman Show (1998)\",\"The Devil\\'s Advocate (1997)\",\"Don Jon (2013)\",\"A Beautiful Mind (2001)\",\"I Love You, Man (2009)\",\"The Sixth Sense (1999)\",\"Groundhog Day (1993)\",\"Raiders of the Lost Ark (1981)\",\"Life Is Beautiful (1997)\",\"The Prestige (2006)\",\"Valerian and the City of a Thousand Planets (2017)\",\"Dead Poets Society (1989)\",\"War of the Worlds (2005)\",\"Midnight in Paris (2011)\",\"Schindler\\'s List (1993)\",\"Eternal Sunshine of the Spotless Mind (2004)\",\"Indiana Jones and the Temple of Doom (1984)\",\"Indiana Jones and the Last Crusade (1989)\",\"Requiem for a Dream (2000)\",\"Hugo (2011)\",\"E.T. the Extra-Terrestrial (1982)\",\"V for Vendetta (2006)\",\"Big Fish (2003)\",\"Shrek (2001)\",\"Moonrise Kingdom (2012)\",\"The Curious Case of Benjamin Button (2008)\",\"Jaws (1975)\",\"American Beauty (1999)\",\"Donnie Darko (2001)\",\"Apollo 13 (1995)\",\"Monty Python and the Holy Grail (1975)\",\"Her (2013)\",\"Good Will Hunting (1997)\",\"Annie Hall (1977)\",\"The Little Prince (2015)\",\"The Wizard of Oz (1939)\",\"Back to the Future (1985)\",\"Scott Pilgrim vs. the World (2010)\",\"Dr. Strangelove or: How I Learned to Stop Worrying and Love the Bomb (1964)\",\"The Usual Suspects (1995)\",\"Fargo (1996)\",\"Pan\\'s Labyrinth (2006)\",\"Spirited Away (2003)\",\"Coco (2017)\",\"Am\\\\u00e9lie (2001)\",\"Donnie Darko (2001)\",\"The Shining (1980)\",\"The Nightmare Before Christmas (1993)\",\"The Sixth Sense (1999)\",\"Ghostbusters (1984)\",\"Minority Report (2002)\",\"The Exorcist (1973)\",\"The Conjuring (2013)\",\"Rashomon (1950)\",\"Rosemary\\'s Baby (1968)\",\"Harry Potter and the Half-Blood Prince (2009)\",\"The Evil Dead (1981)\",\"Doctor Sleep (2019)\",\"Stardust (2007)\",\"Beetlejuice (1988)\",\"The Crow (1994)\",\"Fanny and Alexander (1982)\",\"Hereditary (2018)\",\"Nosferatu (1922)\",\"The Conjuring 2 (2016)\",\"The Wailing (2016)\",\"The Matrix Reloaded (2003)\",\"La Dolce Vita (1960)\",\"Coraline (2009)\",\"Sleepy Hollow (1999)\",\"The Others (2001)\",\"Field of Dreams (1989)\",\"Poltergeist (1982)\",\"It Follows (2015)\",\"Throne of Blood (1957)\",\"The Devil\\'s Advocate (1997)\",\"Ghost (1990)\",\"His House (2020)\",\"Mickey\\'s Christmas Carol (1983)\",\"Corpse Bride (2005)\",\"The Muppet Christmas Carol (1992)\",\"The Omen (1976)\",\"The Babadook (2014)\",\"Ugetsu (1953)\",\"Gerald\\'s Game (2017)\",\"The Orphanage (2007)\",\"Ringu (1998)\",\"Volver (2006)\",\"ParaNorman (2012)\",\"Time of the Gypsies (1988)\",\"Hellboy (2004)\",\"A Tale of Two Sisters (2003)\",\"The Godfather: Part II (1974)\",\"Taxi Driver (1976)\",\"American Beauty (1999)\",\"Spotlight (2015)\",\"Am\\\\u00e9lie (2001)\",\"A Clockwork Orange (1971)\",\"The Wolf of Wall Street (2013)\",\"Oldboy (2003)\",\"Jaws (1975)\",\"Rear Window (1954)\",\"Cinema Paradiso (1988)\",\"The Handmaiden (2016)\",\"Call Me by Your Name (2017)\",\"Ocean\\'s Eleven (2001)\",\"Mystic River (2003)\",\"Boogie Nights (1997)\",\"Short Term 12 (2013)\",\"The Nice Guys (2016)\",\"Once Upon a Time in America (1984)\",\"The Girl with the Dragon Tattoo (2010)\",\"When Harry Met Sally... (1989)\",\"Being John Malkovich (1999)\",\"Love, Simon (2018)\",\"The 400 Blows (1959)\",\"O Brother, Where Art Thou? (2000)\",\"Easy A (2010)\",\"Juno (2007)\",\"The Wrestler (2008)\",\"The Graduate (1967)\",\"Taken (2008)\",\"The Lighthouse (2019)\",\"Being There (1979)\",\"Primal Fear (1996)\",\"Bonnie and Clyde (1967)\",\"Planet of the Apes (1968)\",\"Sweeney Todd: The Demon Barber of Fleet Street (2007)\",\"Eyes Wide Shut (1999)\",\"Moulin Rouge! (2001)\",\"Pain and Glory (2019)\",\"Lord of War (2005)\",\"The Color Purple (1985)\",\"The 40 Year Old Virgin (2005)\",\"Burning (2018)\",\"Y Tu Mam\\\\u00e1 Tambi\\\\u00e9n (2001)\",\"Blue Is the Warmest Color (2013)\",\"It Follows (2015)\",\"Bridesmaids (2011)\",\"Monster (2003)\",\"The Devil\\'s Advocate (1997)\",\"Midnight Express (1978)\"],\"meta\":\"\"}]'"
      ]
     },
     "execution_count": 81,
     "metadata": {},
     "output_type": "execute_result"
    }
   ],
   "source": [
    "results = collection.find({}, {'_id': False})\n",
    "coll_df = pd.DataFrame(results)\n",
    "coll_json = coll_df.to_json(orient='records') \n",
    "coll_json"
   ]
  }
 ],
 "metadata": {
  "kernelspec": {
   "display_name": "Python 3",
   "language": "python",
   "name": "python3"
  },
  "language_info": {
   "codemirror_mode": {
    "name": "ipython",
    "version": 3
   },
   "file_extension": ".py",
   "mimetype": "text/x-python",
   "name": "python",
   "nbconvert_exporter": "python",
   "pygments_lexer": "ipython3",
   "version": "3.8.3"
  }
 },
 "nbformat": 4,
 "nbformat_minor": 4
}
