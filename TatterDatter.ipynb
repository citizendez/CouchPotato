{
 "cells": [
  {
   "cell_type": "code",
   "execution_count": 11,
   "metadata": {},
   "outputs": [],
   "source": [
    "# Dependencies\n",
    "from bs4 import BeautifulSoup\n",
    "import requests\n",
    "import pandas as pd\n",
    "import pymongo\n",
    "import sqlalchemy\n",
    "from sqlalchemy import create_engine\n",
    "import pymysql\n",
    "import mysql.connector\n",
    "from config import mongoConn, remote_db_endpoint, remote_db_port, remote_db_name, remote_db_user, remote_db_pwd"
   ]
  },
  {
   "cell_type": "code",
   "execution_count": 22,
   "metadata": {},
   "outputs": [],
   "source": [
    "#connect to MySQLdb\n",
    "pymysql.install_as_MySQLdb()\n",
    "connstr = f\"mysql://{remote_db_user}:{remote_db_pwd}@{remote_db_endpoint}:{remote_db_port}/{remote_db_name}\"\n",
    "engine = create_engine(connstr) "
   ]
  },
  {
   "cell_type": "code",
   "execution_count": 26,
   "metadata": {},
   "outputs": [
    {
     "data": {
      "text/plain": [
       "'[{\"Service_ID\":1,\"Service_Name\":\"AcornTV\",\"Service_Type\":\"SVOD\"},{\"Service_ID\":2,\"Service_Name\":\"HBO MAX\",\"Service_Type\":\"SVOD\"},{\"Service_ID\":3,\"Service_Name\":\"HBO MAX\",\"Service_Type\":\"SVOD\"}]'"
      ]
     },
     "execution_count": 26,
     "metadata": {},
     "output_type": "execute_result"
    }
   ],
   "source": [
    "#Test select statement\n",
    "conn = engine.connect()\n",
    "query = '''\n",
    "    SELECT\n",
    "        *\n",
    "    FROM\n",
    "        streamingservices\n",
    "\n",
    "    '''\n",
    "service_data = pd.read_sql(query, con=conn)\n",
    "service_json = service_data.to_json(orient='records')\n",
    "\n",
    "conn.close()\n",
    "service_json"
   ]
  },
  {
   "cell_type": "code",
   "execution_count": 56,
   "metadata": {},
   "outputs": [],
   "source": [
    "#MySQLdb insert connection\n",
    "conn = pymysql.connect(host=f'{remote_db_endpoint}',\n",
    "                             user=remote_db_user,\n",
    "                             password=remote_db_pwd,\n",
    "                             db=remote_db_name)\n",
    "mycursor = conn.cursor()"
   ]
  },
  {
   "cell_type": "code",
   "execution_count": 25,
   "metadata": {},
   "outputs": [],
   "source": [
    "#Insert records\n",
    "sql = \"\"\"\n",
    "    INSERT INTO \n",
    "        streamingservices(Service_Name, Service_Type)\n",
    "    VALUES \n",
    "        (%s, %s);\n",
    "    \"\"\"\n",
    "val = ('HBO MAX', 'SVOD')\n",
    "mycursor.execute(sql, val)\n",
    "\n",
    "conn.commit()"
   ]
  },
  {
   "cell_type": "code",
   "execution_count": 88,
   "metadata": {
    "scrolled": true
   },
   "outputs": [
    {
     "name": "stdout",
     "output_type": "stream",
     "text": [
      "['Netflix', 'Prime Video', 'Hulu', 'Disney+', 'HBO MAX', 'Peacock', 'Apple TV+', 'Discovery+', 'Tubi', 'IMDb TV', 'Crackle', 'PlutoTV', 'Showtime', 'CBS All Access', 'Starz', 'Philo', 'fuboTV']\n"
     ]
    }
   ],
   "source": [
    "#service scraper:\n",
    "#connection\n",
    "url = 'https://reelgood.com/services'\n",
    "# Retrieve page with the requests module\n",
    "response = requests.get(url)\n",
    "\n",
    "# Create BeautifulSoup object; parse with 'html.parser'\n",
    "soup = BeautifulSoup(response.text, 'html.parser')\n",
    "services = soup.select('ul.e2kiuu0 h3.eycwrsh3')\n",
    "\n",
    "tVod = []\n",
    "aVod = []\n",
    "sVod = []\n",
    "PopularVod = []\n",
    "vodCount = 0\n",
    "\n",
    "for service in services:\n",
    "    if service.text == '':\n",
    "        vodCount += 1\n",
    "    if vodCount == 0:\n",
    "        PopularVod.append(service.text)\n",
    "    if vodCount == 4:\n",
    "        aVod.append(service.text)\n",
    "    if vodCount == 8:\n",
    "        sVod.append(service.text)\n",
    "    if vodCount == 12:\n",
    "        tVod.append(service.text)\n",
    "print(PopularVod)\n",
    "        #print(vodCount)\n",
    "    #print(service)"
   ]
  },
  {
   "cell_type": "markdown",
   "metadata": {},
   "source": [
    "# Create BeautifulSoup object; parse with 'html.parser'\n",
    "soup = BeautifulSoup(response.text, 'html.parser')\n",
    "link = soup.select('.e1qyeclq5 a')[0]['href']\n",
    "show_url = base_url + link\n",
    "print(show_url)"
   ]
  },
  {
   "cell_type": "code",
   "execution_count": 101,
   "metadata": {},
   "outputs": [],
   "source": [
    "#Delete records\n",
    "sql = \"\"\"\n",
    "    DELETE FROM \n",
    "        streamingservices;\n",
    "    \"\"\"\n",
    "mycursor.execute(sql) \n",
    "conn.commit()"
   ]
  },
  {
   "cell_type": "code",
   "execution_count": 102,
   "metadata": {},
   "outputs": [],
   "source": [
    "#Insert tVod records\n",
    "sql = \"\"\"\n",
    "    INSERT INTO \n",
    "        streamingservices(Service_Name, Service_Type, Popular)\n",
    "    VALUES \n",
    "        (%s, %s, %s);\n",
    "    \"\"\"\n",
    "for vod in tVod:\n",
    "    POP = 0\n",
    "    if vod in PopularVod:\n",
    "        POP = 1\n",
    "    if vod != '':\n",
    "        val = (vod, 'TVOD', POP)\n",
    "        mycursor.execute(sql, val) \n",
    "        \n",
    "for vod in sVod:\n",
    "    POP = 0\n",
    "    if vod in PopularVod:\n",
    "        POP = 1 \n",
    "    if vod != '':\n",
    "        val = (vod, 'SVOD', POP)\n",
    "        mycursor.execute(sql, val)\n",
    "\n",
    "for vod in aVod:\n",
    "    POP = 0\n",
    "    if vod in PopularVod:\n",
    "        POP = 1 \n",
    "    if vod != '':\n",
    "        val = (vod, 'AVOD', POP)\n",
    "        mycursor.execute(sql, val)\n",
    "        \n",
    "conn.commit()"
   ]
  },
  {
   "cell_type": "code",
   "execution_count": 104,
   "metadata": {},
   "outputs": [
    {
     "name": "stdout",
     "output_type": "stream",
     "text": [
      "<pymysql.cursors.Cursor object at 0x00000254303269D0>\n"
     ]
    },
    {
     "data": {
      "text/plain": [
       "True"
      ]
     },
     "execution_count": 104,
     "metadata": {},
     "output_type": "execute_result"
    }
   ],
   "source": [
    "def insert_service(vodList, VOD_TYPE):\n",
    "    sql = \"\"\"\n",
    "        INSERT INTO \n",
    "            streamingservices(Service_Name, Service_Type, Popular)\n",
    "        VALUES \n",
    "            (%s, %s, %s);\n",
    "        \"\"\"\n",
    "    for vod in vodList:\n",
    "        POP = 0\n",
    "        if vod in PopularVod:\n",
    "            POP = 1 \n",
    "        if vod != '':\n",
    "            val = (vod, VOD_TYPE, POP)\n",
    "            mycursor.execute(sql, val)\n",
    "    return True\n",
    "\n",
    "\n",
    "# insert_service(aVod, 'AVOD')\n"
   ]
  }
 ],
 "metadata": {
  "kernelspec": {
   "display_name": "Python 3",
   "language": "python",
   "name": "python3"
  },
  "language_info": {
   "codemirror_mode": {
    "name": "ipython",
    "version": 3
   },
   "file_extension": ".py",
   "mimetype": "text/x-python",
   "name": "python",
   "nbconvert_exporter": "python",
   "pygments_lexer": "ipython3",
   "version": "3.8.3"
  }
 },
 "nbformat": 4,
 "nbformat_minor": 4
}
