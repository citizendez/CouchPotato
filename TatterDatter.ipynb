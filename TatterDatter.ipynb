{
 "cells": [
  {
   "cell_type": "code",
   "execution_count": 1,
   "metadata": {},
   "outputs": [],
   "source": [
    "# Dependencies\n",
    "from bs4 import BeautifulSoup\n",
    "import requests\n",
    "import pandas as pd\n",
    "import pymongo\n",
    "import sqlalchemy\n",
    "from sqlalchemy import create_engine\n",
    "import pymysql\n",
    "import mysql.connector\n",
    "from config import mongoConn, remote_db_endpoint, remote_db_port, remote_db_name, remote_db_user, remote_db_pwd"
   ]
  },
  {
   "cell_type": "code",
   "execution_count": 7,
   "metadata": {},
   "outputs": [],
   "source": [
    "#MySQLdb insert connection\n",
    "conn = pymysql.connect(host=f'{remote_db_endpoint}',\n",
    "                             user=remote_db_user,\n",
    "                             password=remote_db_pwd,\n",
    "                             db=remote_db_name)\n",
    "mycursor = conn.cursor()"
   ]
  },
  {
   "cell_type": "code",
   "execution_count": 23,
   "metadata": {},
   "outputs": [],
   "source": [
    "#Function insert servivices into table\n",
    "def insert_service(VodDict ):\n",
    "    sql = \"\"\"\n",
    "    INSERT INTO \n",
    "        streamingservices(Service_Name, Service_Type, Service_Img, Service_URL, Popular)\n",
    "    VALUES \n",
    "        (%s, %s, %s, %s, %s);\n",
    "        \"\"\" \n",
    "    if VodDict['Service_Name'] == '':\n",
    "        return False\n",
    "    if VodDict['Service_Name'] == 'Free Services Bundle':\n",
    "        return False    \n",
    "     \n",
    "    POP = 0\n",
    "    if VodDict['Service_Name'] in PopularVod:\n",
    "        POP = 10 \n",
    "    val = (VodDict['Service_Name'], VodDict['Service_Type'], VodDict['Service_Img'], VodDict['Service_URL'], POP)\n",
    "    mycursor.execute(sql, val)\n",
    "    conn.commit()\n",
    "    return True\n"
   ]
  },
  {
   "cell_type": "code",
   "execution_count": 25,
   "metadata": {},
   "outputs": [],
   "source": [
    "#Service name sanitizer, create url for tables\n",
    "def getURL(name):\n",
    "    name = name.replace(' ', '')\n",
    "    name = name.replace('+', '')\n",
    "    name = name + '.com'\n",
    "    return name\n"
   ]
  },
  {
   "cell_type": "code",
   "execution_count": 26,
   "metadata": {},
   "outputs": [],
   "source": [
    "#service scraper:\n",
    "#url to scrape\n",
    "url = 'https://reelgood.com/services'\n",
    "# Retrieve page with the requests module\n",
    "response = requests.get(url)\n",
    "\n",
    "# Create BeautifulSoup object; parse with 'html.parser'\n",
    "soup = BeautifulSoup(response.text, 'html.parser')\n",
    "#target scrape\n",
    "services = soup.select('ul.e2kiuu0 a')\n",
    "vodCount = 0\n",
    "PopularVod= []\n",
    "for service in services:\n",
    "    #veriables for scrape\n",
    "    img = service.select('img')[0]['src']\n",
    "    name = service.select('h3')[0].text\n",
    "    url = getURL(name)\n",
    "    VodDict = {'Service_Name':name,  'Service_Img':img, 'Service_URL':url}\n",
    "    #loop selects services calls function to populate table\n",
    "    if name == '':\n",
    "        vodCount += 1\n",
    "    if vodCount == 0:\n",
    "        PopularVod.append(name)\n",
    "    if vodCount == 4:\n",
    "        VodDict['Service_Type']='AVOD'\n",
    "        insert_service(VodDict)\n",
    "    if vodCount == 8:\n",
    "        VodDict['Service_Type']='SVOD'\n",
    "        insert_service(VodDict)\n",
    "    if vodCount == 12:\n",
    "        VodDict['Service_Type']='TVOD'\n",
    "        insert_service(VodDict)\n",
    "    \n",
    " "
   ]
  },
  {
   "cell_type": "code",
   "execution_count": null,
   "metadata": {},
   "outputs": [],
   "source": [
    "#Insert for user_profile table\n",
    "def insert_user(profile_dict):\n",
    "    sql = \"\"\"\n",
    "    INSERT INTO \n",
    "        user_profile(User_Name, Age, Gender, Watch_Frequency, Zip_Code)\n",
    "    VALUES \n",
    "        (%s, %s, %s, %s, %s);\n",
    "        \"\"\" \n",
    "    val = (profile_dict['User_Name'], profile_dict['Age'], profile_dict['Gender'], profile_dict['Watch_Frequency'], profile_dict['Zip_Code'])\n",
    "    mycursor.execute(sql, val)\n",
    "    conn.commit()"
   ]
  },
  {
   "cell_type": "code",
   "execution_count": null,
   "metadata": {},
   "outputs": [],
   "source": []
  },
  {
   "cell_type": "markdown",
   "metadata": {},
   "source": [
    "#Delete records\n",
    "sql = \"\"\"\n",
    "    DELETE FROM \n",
    "        streamingservices;\n",
    "    \"\"\"\n",
    "mycursor.execute(sql) \n",
    "conn.commit()"
   ]
  },
  {
   "cell_type": "markdown",
   "metadata": {},
   "source": [
    "#connect to MySQLdb\n",
    "pymysql.install_as_MySQLdb()\n",
    "connstr = f\"mysql://{remote_db_user}:{remote_db_pwd}@{remote_db_endpoint}:{remote_db_port}/{remote_db_name}\"\n",
    "engine = create_engine(connstr) "
   ]
  }
 ],
 "metadata": {
  "kernelspec": {
   "display_name": "Python 3",
   "language": "python",
   "name": "python3"
  },
  "language_info": {
   "codemirror_mode": {
    "name": "ipython",
    "version": 3
   },
   "file_extension": ".py",
   "mimetype": "text/x-python",
   "name": "python",
   "nbconvert_exporter": "python",
   "pygments_lexer": "ipython3",
   "version": "3.8.3"
  }
 },
 "nbformat": 4,
 "nbformat_minor": 4
}
